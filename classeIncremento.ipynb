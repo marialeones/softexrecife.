{
  "nbformat": 4,
  "nbformat_minor": 0,
  "metadata": {
    "colab": {
      "name": "classeIncremento",
      "provenance": []
    },
    "kernelspec": {
      "name": "python3",
      "display_name": "Python 3"
    },
    "language_info": {
      "name": "python"
    }
  },
  "cells": [
    {
      "cell_type": "code",
      "execution_count": null,
      "metadata": {
        "colab": {
          "base_uri": "https://localhost:8080/"
        },
        "id": "anh_U1ogPFNk",
        "outputId": "c84bb8eb-384e-4a56-e771-1f26f581c6cf"
      },
      "outputs": [
        {
          "output_type": "stream",
          "name": "stdout",
          "text": [
            "Joâo, tem, 14 anos de idade, e mora na cidade: Recife\n",
            "Ana Maria, tem, 37 anos de idade, e mora na cidade: Lagedo\n",
            "Claudia Alves, tem, 28 anos de idade, e mora na cidade: Natal\n",
            "1\n",
            "1\n",
            "1\n"
          ]
        }
      ],
      "source": [
        "class Pessoa:\n",
        "\n",
        "  incremento = 0 \n",
        "\n",
        "  def __init__(self, nome, idade, cidade):\n",
        "    self.nome = nome \n",
        "    self.idade = idade\n",
        "    self.cidade = cidade\n",
        "\n",
        "  def __str__(self):\n",
        "    return \"{}, tem, {} anos de idade, e mora na cidade: {}\".format(self.nome, self.idade, self.cidade)\n",
        "\n",
        "  def incrementador():\n",
        "    Pessoa.incremento += 1 \n",
        "\n",
        "p = Pessoa(\"Joâo\", \"14\", \"Recife\")\n",
        "p1 = Pessoa(\"Ana Maria\", \"37\", \"Lagedo\")\n",
        "p2 = Pessoa(\"Claudia Alves\", \"28\", \"Natal\")\n",
        "\n",
        "print(p)\n",
        "print(p1)\n",
        "print(p2)\n",
        "\n",
        "Pessoa.incrementador()\n",
        "\n",
        "print(p.incremento)\n",
        "print(p1.incremento)\n",
        "print(p.incremento)"
      ]
    }
  ]
}